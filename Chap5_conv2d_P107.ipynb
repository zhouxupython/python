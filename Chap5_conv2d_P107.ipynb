
import tensorflow as tf
import matplotlib as mil
#mil.use('svg')
mil.use("nbagg")
from matplotlib import pyplot
fig = pyplot.gcf()
fig.set_size_inches(4, 4)

with tf.Session() as sess:
    tf.initialize_all_variables().run()

    coord = tf.train.Coordinator()
    threads = tf.train.start_queue_runners(sess=sess, coord=coord)

    image_filename = "./05_object_recognition_and_classification/images/chapter-05-object-recognition-and-classification/convolution/n02113023_219.jpg"
    #image_filename = "/Users/erikerwitt/Downloads/images/n02085936-Maltese_dog/n02085936_804.jpg"
    filename_queue = tf.train.string_input_producer(
        tf.train.match_filenames_once(image_filename))

    image_reader = tf.WholeFileReader()
    _, image_file = image_reader.read(filename_queue)
    image = tf.image.decode_jpeg(image_file)

    sess.run(tf.initialize_all_variables())
    coord = tf.train.Coordinator()
    threads = tf.train.start_queue_runners(coord=coord)

    image_batch = tf.image.convert_image_dtype(tf.expand_dims(image, 0), tf.float32, saturate=False)

    kernel = tf.constant([
        [
            [[ 0., 0., 0.], [ 0., 0., 0.], [ 0., 0., 0.]],
            [[ -1., 0., 0.], [ 0., -1., 0.], [ 0., 0., -1.]],
            [[ 0., 0., 0.], [ 0., 0., 0.], [ 0., 0., 0.]]
        ],
        [
            [[ -1., 0., 0.], [ 0., -1., 0.], [ 0., 0., -1.]],
            [[ 5., 0., 0.], [ 0., 5., 0.], [ 0., 0., 5.]],
            [[ -1., 0., 0.], [ 0., -1., 0.], [ 0., 0., -1.]]
        ],
        [
            [[ 0., 0., 0.], [ 0., 0., 0.], [ 0., 0., 0.]],
            [[ -1., 0., 0.], [ 0., -1., 0.], [ 0., 0., -1.]],
            [[ 0, 0., 0.], [ 0., 0., 0.], [ 0., 0., 0.]]
        ]
    ])


    conv2d = tf.nn.conv2d(image_batch, kernel, [1, 1, 1, 1], padding="SAME")
    activation_map = sess.run(tf.minimum(tf.nn.relu(conv2d), 255))

    fig = pyplot.gcf()
    pyplot.imshow(activation_map[0], interpolation='nearest')
    #pyplot.show()
    fig.set_size_inches(4, 4)
    fig.savefig("./05_object_recognition_and_classification/images/chapter-05-object-recognition-and-classification/convolution/example-sharpen.png")
    print('Done')
    
    filename_queue.close(cancel_pending_enqueues=True)
    
    coord.request_stop()
    coord.join(threads)
    

    sess.close()
